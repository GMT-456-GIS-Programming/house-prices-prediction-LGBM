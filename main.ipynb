{
 "cells": [
  {
   "cell_type": "code",
   "execution_count": 48,
   "id": "1ac3d79f",
   "metadata": {},
   "outputs": [],
   "source": [
    "import pandas as pd\n",
    "import numpy as np\n",
    "import matplotlib.pyplot as plt"
   ]
  },
  {
   "cell_type": "code",
   "execution_count": 49,
   "id": "f1b89b31",
   "metadata": {},
   "outputs": [],
   "source": [
    "df = pd.read_csv(r\"house_price.csv\")"
   ]
  },
  {
   "cell_type": "code",
   "execution_count": null,
   "id": "9805f80b",
   "metadata": {},
   "outputs": [],
   "source": [
    "df.info()"
   ]
  },
  {
   "cell_type": "code",
   "execution_count": 51,
   "id": "760a0a52",
   "metadata": {},
   "outputs": [],
   "source": [
    "dropColumns = [\"Id\", \"MSSubClass\", \"MSZoning\", \"Street\", \"LandContour\", \"Utilities\", \"LandSlope\", \"Condition1\", \"Condition2\", \"BldgType\", \"OverallCond\", \"RoofStyle\", \n",
    "               \"RoofMatl\", \"Exterior1st\", \"Exterior2nd\",\"MasVnrType\", \"ExterCond\", \"Foundation\", \"BsmtCond\", \"BsmtExposure\", \"BsmtFinType1\",\n",
    "              \"BsmtFinType2\", \"BsmtFinSF2\", \"BsmtUnfSF\", \"Heating\", \"Electrical\", \"LowQualFinSF\", \"BsmtFullBath\", \"BsmtHalfBath\", \"HalfBath\"] + [\"SaleCondition\", \"SaleType\", \"YrSold\", \"MoSold\", \"MiscVal\", \"MiscFeature\", \"Fence\", \"PoolQC\", \"PoolArea\", \"ScreenPorch\", \"3SsnPorch\", \"EnclosedPorch\", \"OpenPorchSF\", \"WoodDeckSF\", \"PavedDrive\", \"GarageCond\", \"GarageQual\", \"GarageType\", \"FireplaceQu\", \"Functional\", \"KitchenAbvGr\", \"BedroomAbvGr\"]\n",
    "\n",
    "droppedDf = df.drop(columns=dropColumns, axis=1)\n",
    "# droppedDf.head()"
   ]
  },
  {
   "cell_type": "code",
   "execution_count": null,
   "id": "565b1375",
   "metadata": {},
   "outputs": [],
   "source": [
    "# import pandas_profiling \n",
    "\n",
    "# profile = droppedDf.profile_report(title='Pandas Profiling Report')\n",
    "# profile.to_file(output_file=\"Data_Profiling_v3.html\")"
   ]
  },
  {
   "cell_type": "code",
   "execution_count": 53,
   "id": "499e1588",
   "metadata": {},
   "outputs": [
    {
     "data": {
      "text/plain": [
       "Alley           1369\n",
       "LotFrontage      259\n",
       "GarageFinish      81\n",
       "GarageYrBlt       81\n",
       "BsmtQual          37\n",
       "MasVnrArea         8\n",
       "CentralAir         0\n",
       "GarageArea         0\n",
       "GarageCars         0\n",
       "Fireplaces         0\n",
       "TotRmsAbvGrd       0\n",
       "KitchenQual        0\n",
       "FullBath           0\n",
       "GrLivArea          0\n",
       "2ndFlrSF           0\n",
       "1stFlrSF           0\n",
       "TotalBsmtSF        0\n",
       "HeatingQC          0\n",
       "LotArea            0\n",
       "BsmtFinSF1         0\n",
       "ExterQual          0\n",
       "YearRemodAdd       0\n",
       "YearBuilt          0\n",
       "OverallQual        0\n",
       "HouseStyle         0\n",
       "Neighborhood       0\n",
       "LotConfig          0\n",
       "LotShape           0\n",
       "SalePrice          0\n",
       "dtype: int64"
      ]
     },
     "execution_count": 53,
     "metadata": {},
     "output_type": "execute_result"
    }
   ],
   "source": [
    "droppedDf.isnull().sum().sort_values(ascending=False)"
   ]
  },
  {
   "cell_type": "code",
   "execution_count": 54,
   "id": "105330f4",
   "metadata": {},
   "outputs": [
    {
     "data": {
      "text/plain": [
       "1369"
      ]
     },
     "execution_count": 54,
     "metadata": {},
     "output_type": "execute_result"
    }
   ],
   "source": [
    "droppedDf[\"Alley\"].isna().sum()"
   ]
  },
  {
   "cell_type": "code",
   "execution_count": 55,
   "id": "8060acd0",
   "metadata": {},
   "outputs": [],
   "source": [
    "droppedDf[\"Alley\"].fillna(\"NO\", inplace=True)"
   ]
  },
  {
   "cell_type": "code",
   "execution_count": 56,
   "id": "ba955b92",
   "metadata": {},
   "outputs": [],
   "source": [
    "droppedDf[\"LotFrontage\"].fillna(df.LotFrontage.mean(), inplace=True)\n",
    "# droppedDf[\"LotFrontage\"]\n"
   ]
  },
  {
   "cell_type": "code",
   "execution_count": 57,
   "id": "067abe22",
   "metadata": {},
   "outputs": [],
   "source": [
    "droppedDf[\"GarageFinish\"].fillna(\"NO\", inplace=True)"
   ]
  },
  {
   "cell_type": "code",
   "execution_count": 58,
   "id": "a2a7115a",
   "metadata": {},
   "outputs": [],
   "source": [
    "droppedDf[\"GarageYrBlt\"].fillna(df.GarageYrBlt.mean(), inplace=True)\n",
    "# droppedDf[\"GarageYrBlt\"]"
   ]
  },
  {
   "cell_type": "code",
   "execution_count": 59,
   "id": "4e48418b",
   "metadata": {},
   "outputs": [],
   "source": [
    "droppedDf[\"BsmtQual\"].fillna(\"NO\", inplace=True)\n",
    "# droppedDf[\"BsmtQual\"]"
   ]
  },
  {
   "cell_type": "code",
   "execution_count": 60,
   "id": "971ec65a",
   "metadata": {},
   "outputs": [],
   "source": [
    "droppedDf[\"MasVnrArea\"].fillna(0, inplace=True)\n",
    "# droppedDf[\"MasVnrArea\"]"
   ]
  },
  {
   "cell_type": "code",
   "execution_count": 61,
   "id": "1a5b9afb",
   "metadata": {},
   "outputs": [],
   "source": [
    "droppedDf['MasVnrAreaCatg'] = np.where(droppedDf.MasVnrArea>1000,'BIG',\n",
    "                                      np.where(droppedDf.MasVnrArea>500,'MEDIUM',\n",
    "                                              np.where(droppedDf.MasVnrArea>0,'SMALL','NO')))"
   ]
  },
  {
   "cell_type": "code",
   "execution_count": null,
   "id": "b1dded6b",
   "metadata": {},
   "outputs": [],
   "source": [
    "droppedDf.info()"
   ]
  },
  {
   "cell_type": "code",
   "execution_count": 62,
   "id": "192bc6f1",
   "metadata": {},
   "outputs": [],
   "source": [
    "inputDf = droppedDf.drop(['SalePrice'],axis=1)\n",
    "inputDf = inputDf.iloc[[0]].copy()"
   ]
  },
  {
   "cell_type": "code",
   "execution_count": 72,
   "id": "38346690",
   "metadata": {},
   "outputs": [],
   "source": [
    "for i in inputDf:\n",
    "    if inputDf[i].dtype == \"object\":\n",
    "        inputDf[i] = droppedDf[i].mode()[0]\n",
    "    elif inputDf[i].dtype == \"int64\" or inputDf[i].dtype == \"float64\":\n",
    "        inputDf[i] = droppedDf[i].mean()\n",
    "inputDf\n",
    "\n",
    "obj_feat = list(inputDf.loc[:, inputDf.dtypes == 'object'].columns.values)\n",
    "for feature in obj_feat:\n",
    "    inputDf[feature] = inputDf[feature].astype('category')"
   ]
  },
  {
   "cell_type": "markdown",
   "id": "d11adfe4",
   "metadata": {},
   "source": [
    "## Modeling"
   ]
  },
  {
   "cell_type": "markdown",
   "id": "bb088292",
   "metadata": {},
   "source": [
    "### Importing the libraries"
   ]
  },
  {
   "cell_type": "code",
   "execution_count": 64,
   "id": "95f334f0",
   "metadata": {},
   "outputs": [],
   "source": [
    "import lightgbm as lgb\n",
    "import pandas as pd\n",
    "import numpy as np\n",
    "from sklearn.model_selection import train_test_split\n",
    "from sklearn import metrics"
   ]
  },
  {
   "cell_type": "code",
   "execution_count": 65,
   "id": "295c78a3",
   "metadata": {},
   "outputs": [],
   "source": [
    "df = droppedDf.copy()"
   ]
  },
  {
   "cell_type": "code",
   "execution_count": 66,
   "id": "135bd005",
   "metadata": {},
   "outputs": [],
   "source": [
    "obj_feat = list(df.loc[:, df.dtypes == 'object'].columns.values)\n",
    "for feature in obj_feat:\n",
    "    df[feature] = df[feature].astype('category')"
   ]
  },
  {
   "cell_type": "code",
   "execution_count": 67,
   "id": "89c3992a",
   "metadata": {},
   "outputs": [
    {
     "data": {
      "text/plain": [
       "Index(['LotFrontage', 'LotArea', 'Alley', 'LotShape', 'LotConfig',\n",
       "       'Neighborhood', 'HouseStyle', 'OverallQual', 'YearBuilt',\n",
       "       'YearRemodAdd', 'MasVnrArea', 'ExterQual', 'BsmtQual', 'BsmtFinSF1',\n",
       "       'TotalBsmtSF', 'HeatingQC', 'CentralAir', '1stFlrSF', '2ndFlrSF',\n",
       "       'GrLivArea', 'FullBath', 'KitchenQual', 'TotRmsAbvGrd', 'Fireplaces',\n",
       "       'GarageYrBlt', 'GarageFinish', 'GarageCars', 'GarageArea',\n",
       "       'MasVnrAreaCatg'],\n",
       "      dtype='object')"
      ]
     },
     "execution_count": 67,
     "metadata": {},
     "output_type": "execute_result"
    }
   ],
   "source": [
    "# To define the input and output feature\n",
    "x = df.drop(['SalePrice'],axis=1)\n",
    "y = df.SalePrice\n",
    "\n",
    "# train and test split\n",
    "x_train,x_test,y_train,y_test = train_test_split(x,y,test_size=0.30,random_state=1)\n",
    "x.iloc[0].index"
   ]
  },
  {
   "cell_type": "code",
   "execution_count": 68,
   "id": "9be0b2c4",
   "metadata": {},
   "outputs": [
    {
     "name": "stdout",
     "output_type": "stream",
     "text": [
      "Train r2 = 0.97 \n",
      "Test r2 = 0.91\n",
      "Train msle = 0.01 \n",
      "Test msle = 0.02\n"
     ]
    }
   ],
   "source": [
    "model = lgb.LGBMRegressor(max_depth=5, \n",
    "                          n_estimators = 100, \n",
    "                          learning_rate = 0.2,\n",
    "                          min_child_samples = 30)\n",
    "model.fit(x_train, y_train)\n",
    "\n",
    "pred_y_train = model.predict(x_train)\n",
    "pred_y_test = model.predict(x_test)\n",
    "\n",
    "r2_train = metrics.r2_score(y_train, pred_y_train)\n",
    "r2_test = metrics.r2_score(y_test, pred_y_test)\n",
    "\n",
    "msle_train =metrics.mean_squared_log_error(y_train, pred_y_train)\n",
    "msle_test =metrics.mean_squared_log_error(y_test, pred_y_test)\n",
    "\n",
    "print(f\"Train r2 = {r2_train:.2f} \\nTest r2 = {r2_test:.2f}\")\n",
    "print(f\"Train msle = {msle_train:.2f} \\nTest msle = {msle_test:.2f}\")"
   ]
  },
  {
   "cell_type": "code",
   "execution_count": 69,
   "id": "5f85fe05",
   "metadata": {},
   "outputs": [
    {
     "name": "stdout",
     "output_type": "stream",
     "text": [
      "Train r2 = 0.97 \n",
      "Test r2 = 0.91\n",
      "Train msle = 0.01 \n",
      "Test msle = 0.02\n"
     ]
    },
    {
     "data": {
      "text/plain": [
       "{'learning_rate': 0.2,\n",
       " 'max_depth': 3,\n",
       " 'min_child_samples': 10,\n",
       " 'n_estimators': 100}"
      ]
     },
     "execution_count": 69,
     "metadata": {},
     "output_type": "execute_result"
    }
   ],
   "source": [
    "from sklearn.model_selection import GridSearchCV\n",
    "\n",
    "params = [{\"max_depth\":[3, 5], \n",
    "            \"n_estimators\" : [50, 100], \n",
    "            \"learning_rate\" : [0.1, 0.2],\n",
    "            \"min_child_samples\" : [20, 10]}]\n",
    "\n",
    "gs_knn = GridSearchCV(model,\n",
    "                      param_grid=params,\n",
    "                      cv=5)\n",
    "\n",
    "gs_knn.fit(x_train, y_train)\n",
    "gs_knn.score(x_train, y_train)\n",
    "\n",
    "pred_y_train = model.predict(x_train)\n",
    "pred_y_test = model.predict(x_test)\n",
    "\n",
    "r2_train = metrics.r2_score(y_train, pred_y_train)\n",
    "r2_test = metrics.r2_score(y_test, pred_y_test)\n",
    "\n",
    "msle_train =metrics.mean_squared_log_error(y_train, pred_y_train)\n",
    "msle_test =metrics.mean_squared_log_error(y_test, pred_y_test)\n",
    "\n",
    "print(f\"Train r2 = {r2_train:.2f} \\nTest r2 = {r2_test:.2f}\")\n",
    "print(f\"Train msle = {msle_train:.2f} \\nTest msle = {msle_test:.2f}\")\n",
    "\n",
    "gs_knn.best_params_\n"
   ]
  },
  {
   "cell_type": "code",
   "execution_count": 70,
   "id": "cd6c9562",
   "metadata": {},
   "outputs": [],
   "source": [
    "# save the model to disk\n",
    "import pickle\n",
    "\n",
    "filename = 'finalized_model.model'\n",
    "pickle.dump(model, open(filename, 'wb'))"
   ]
  },
  {
   "cell_type": "code",
   "execution_count": 73,
   "id": "98590d05",
   "metadata": {},
   "outputs": [
    {
     "name": "stdout",
     "output_type": "stream",
     "text": [
      "0.9065596642357174\n",
      "[159120.15487566]\n"
     ]
    }
   ],
   "source": [
    "# Load the model from disk\n",
    "import pickle\n",
    "\n",
    "filename = 'finalized_model.model'\n",
    "\n",
    "loaded_model = pickle.load(open(filename, 'rb'))\n",
    "result = loaded_model.score(x_test, y_test)\n",
    "print(result)\n",
    "\n",
    "# predict\n",
    "print(loaded_model.predict(inputDf))\n"
   ]
  },
  {
   "cell_type": "code",
   "execution_count": null,
   "id": "3a63c1bc",
   "metadata": {},
   "outputs": [],
   "source": []
  }
 ],
 "metadata": {
  "interpreter": {
   "hash": "0d1386d1d695fee685ae8d4a093718d9f76de0315258f505873a8374fbdd28d7"
  },
  "kernelspec": {
   "display_name": "Python 3.10.4 ('venv': venv)",
   "language": "python",
   "name": "python3"
  },
  "language_info": {
   "codemirror_mode": {
    "name": "ipython",
    "version": 3
   },
   "file_extension": ".py",
   "mimetype": "text/x-python",
   "name": "python",
   "nbconvert_exporter": "python",
   "pygments_lexer": "ipython3",
   "version": "3.10.4"
  }
 },
 "nbformat": 4,
 "nbformat_minor": 5
}
